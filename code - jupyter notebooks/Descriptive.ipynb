{
 "cells": [
  {
   "cell_type": "code",
   "execution_count": 3,
   "id": "1fee40b8-c75c-44eb-b881-a2c68cb2d977",
   "metadata": {},
   "outputs": [],
   "source": [
    "import warnings\n",
    "warnings.filterwarnings(\"ignore\")"
   ]
  },
  {
   "cell_type": "code",
   "execution_count": 4,
   "id": "ae4ae7d8-5a57-41ea-8840-4bf090365640",
   "metadata": {},
   "outputs": [
    {
     "name": "stdout",
     "output_type": "stream",
     "text": [
      "\n",
      "\n",
      "       number_of_vehicles  number_of_casualties    speed_limit\n",
      "count       538461.000000         538461.000000  538461.000000\n",
      "mean             1.838857              1.287053      36.460650\n",
      "std              0.697104              0.719502      14.085585\n",
      "min              1.000000              1.000000      -1.000000\n",
      "25%              1.000000              1.000000      30.000000\n",
      "50%              2.000000              1.000000      30.000000\n",
      "75%              2.000000              1.000000      40.000000\n",
      "max             24.000000             59.000000      70.000000\n",
      "\n",
      "\n"
     ]
    }
   ],
   "source": [
    "import pandas as pd\n",
    " \n",
    "collision= pd.read_csv(\"RTA-2018-2022.csv\")\n",
    "print(\"\\n\")\n",
    " \n",
    "print(collision[[\"number_of_vehicles\",\"number_of_casualties\",\"speed_limit\"]].describe())\n",
    "print(\"\\n\")"
   ]
  },
  {
   "cell_type": "code",
   "execution_count": 6,
   "id": "afa7d771-7c29-4c21-af74-c2c98863f1b0",
   "metadata": {},
   "outputs": [
    {
     "name": "stdout",
     "output_type": "stream",
     "text": [
      "\n",
      "\n",
      "       age_of_casualty\n",
      "count    413838.000000\n",
      "mean         36.986567\n",
      "std          18.283935\n",
      "min           0.000000\n",
      "25%          23.000000\n",
      "50%          34.000000\n",
      "75%          50.000000\n",
      "max         102.000000\n"
     ]
    }
   ],
   "source": [
    "import pandas as pd\n",
    " \n",
    "casualty= pd.read_csv(\"RTA-CASUALTY.csv\")\n",
    "print(\"\\n\")\n",
    "casualty = casualty[casualty['age_of_casualty'] != -1]\n",
    "print(casualty[casualty['sex_of_casualty'] == 1][[\"age_of_casualty\"]].describe())\n",
    " "
   ]
  },
  {
   "cell_type": "code",
   "execution_count": 7,
   "id": "b355ca34-e5de-41fe-bb05-c0621867b30f",
   "metadata": {},
   "outputs": [
    {
     "name": "stdout",
     "output_type": "stream",
     "text": [
      "\n",
      "\n",
      "       age_of_casualty\n",
      "count    263425.000000\n",
      "mean         38.607748\n",
      "std          19.774095\n",
      "min           0.000000\n",
      "25%          23.000000\n",
      "50%          35.000000\n",
      "75%          52.000000\n",
      "max         101.000000\n"
     ]
    }
   ],
   "source": [
    "import pandas as pd\n",
    " \n",
    "casualty1= pd.read_csv(\"RTA-CASUALTY.csv\")\n",
    "print(\"\\n\")\n",
    "casualty1 = casualty1[casualty1['age_of_casualty'] != -1]\n",
    "print(casualty1[casualty1['sex_of_casualty'] == 2][[\"age_of_casualty\"]].describe())"
   ]
  },
  {
   "cell_type": "code",
   "execution_count": 8,
   "id": "5dd44ae1-ce70-4d3e-a87c-9427701f772a",
   "metadata": {},
   "outputs": [
    {
     "name": "stdout",
     "output_type": "stream",
     "text": [
      "\n",
      "\n",
      "       age_of_driver\n",
      "count  248922.000000\n",
      "mean       41.056005\n",
      "std        16.259753\n",
      "min         2.000000\n",
      "25%        28.000000\n",
      "50%        38.000000\n",
      "75%        52.000000\n",
      "max       101.000000\n"
     ]
    }
   ],
   "source": [
    "import pandas as pd\n",
    " \n",
    "vehicle= pd.read_csv(\"dft-road-casualty-statistics-vehicle-last-5-years.csv\")\n",
    "print(\"\\n\")\n",
    " \n",
    "vehicle = vehicle[vehicle['age_of_driver'] != -1]\n",
    "print(vehicle[vehicle['sex_of_driver'] == 2][[\"age_of_driver\"]].describe())"
   ]
  },
  {
   "cell_type": "code",
   "execution_count": 9,
   "id": "9c28f0a7-45bb-4a69-adf5-0202941fa939",
   "metadata": {},
   "outputs": [
    {
     "name": "stdout",
     "output_type": "stream",
     "text": [
      "\n",
      "\n",
      "       age_of_driver\n",
      "count  589392.000000\n",
      "mean       40.688002\n",
      "std        16.601062\n",
      "min         1.000000\n",
      "25%        27.000000\n",
      "50%        38.000000\n",
      "75%        52.000000\n",
      "max       102.000000\n"
     ]
    }
   ],
   "source": [
    "import pandas as pd\n",
    " \n",
    "vehicle1= pd.read_csv(\"dft-road-casualty-statistics-vehicle-last-5-years.csv\")\n",
    "print(\"\\n\")\n",
    " \n",
    "vehicle1 = vehicle1[vehicle1['age_of_driver'] != -1]\n",
    "print(vehicle1[vehicle1['sex_of_driver'] == 1][[\"age_of_driver\"]].describe())"
   ]
  },
  {
   "cell_type": "code",
   "execution_count": 10,
   "id": "d9370965-d644-4666-87b9-79c60f272ac8",
   "metadata": {},
   "outputs": [
    {
     "data": {
      "text/plain": [
       "0         False\n",
       "1         False\n",
       "2         False\n",
       "3         False\n",
       "4         False\n",
       "          ...  \n",
       "538456    False\n",
       "538457    False\n",
       "538458    False\n",
       "538459    False\n",
       "538460    False\n",
       "Length: 538461, dtype: bool"
      ]
     },
     "execution_count": 10,
     "metadata": {},
     "output_type": "execute_result"
    }
   ],
   "source": [
    "collision.duplicated()"
   ]
  },
  {
   "cell_type": "code",
   "execution_count": 11,
   "id": "bd6d0233-0ee2-44c0-9cc1-6bd4e0c80f4a",
   "metadata": {},
   "outputs": [
    {
     "data": {
      "text/plain": [
       "0         False\n",
       "1         False\n",
       "2         False\n",
       "3         False\n",
       "4         False\n",
       "          ...  \n",
       "693023    False\n",
       "693024    False\n",
       "693025    False\n",
       "693026    False\n",
       "693027    False\n",
       "Length: 678517, dtype: bool"
      ]
     },
     "execution_count": 11,
     "metadata": {},
     "output_type": "execute_result"
    }
   ],
   "source": [
    "casualty.duplicated()"
   ]
  },
  {
   "cell_type": "code",
   "execution_count": 12,
   "id": "541f9e03-2e87-40b9-a52b-8e841fe89bb3",
   "metadata": {},
   "outputs": [
    {
     "data": {
      "text/plain": [
       "0         False\n",
       "1         False\n",
       "3         False\n",
       "4         False\n",
       "5         False\n",
       "          ...  \n",
       "990148    False\n",
       "990149    False\n",
       "990150    False\n",
       "990151    False\n",
       "990152    False\n",
       "Length: 852648, dtype: bool"
      ]
     },
     "execution_count": 12,
     "metadata": {},
     "output_type": "execute_result"
    }
   ],
   "source": [
    "vehicle.duplicated()"
   ]
  },
  {
   "cell_type": "code",
   "execution_count": null,
   "id": "13df621a-1569-44fa-91fd-1cfcd0329217",
   "metadata": {},
   "outputs": [],
   "source": []
  }
 ],
 "metadata": {
  "kernelspec": {
   "display_name": "Python 3 (ipykernel)",
   "language": "python",
   "name": "python3"
  },
  "language_info": {
   "codemirror_mode": {
    "name": "ipython",
    "version": 3
   },
   "file_extension": ".py",
   "mimetype": "text/x-python",
   "name": "python",
   "nbconvert_exporter": "python",
   "pygments_lexer": "ipython3",
   "version": "3.10.11"
  }
 },
 "nbformat": 4,
 "nbformat_minor": 5
}
